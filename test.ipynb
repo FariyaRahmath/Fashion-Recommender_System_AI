{
  "nbformat": 4,
  "nbformat_minor": 0,
  "metadata": {
    "colab": {
      "provenance": []
    },
    "kernelspec": {
      "name": "python3",
      "display_name": "Python 3"
    },
    "language_info": {
      "name": "python"
    }
  },
  "cells": [
    {
      "cell_type": "code",
      "execution_count": null,
      "metadata": {
        "id": "y1trzgCkH6QX"
      },
      "outputs": [],
      "source": [
        "import pickle\n",
        "import numpy as np\n",
        "from tensorflow.keras.preprocessing import image\n",
        "from tensorflow.keras.applications.resnet50 import ResNet50, preprocess_input\n",
        "from tensorflow.keras.layers import GlobalMaxPooling2D\n",
        "from tensorflow.keras.models import Sequential\n",
        "from numpy.linalg import norm\n",
        "from sklearn.neighbors import NearestNeighbors\n",
        "import cv2\n",
        "\n",
        "features_list = pickle.load(open(\"image_features_embedding.pkl\", \"rb\"))\n",
        "img_files_list = pickle.load(open(\"img_files.pkl\", \"rb\"))\n",
        "\n",
        "print(np.array(features_list).shape)\n",
        "\n",
        "model = ResNet50(weights=\"imagenet\", include_top=False, input_shape=(224, 224, 3))\n",
        "model.trainable = False\n",
        "\n",
        "model = Sequential([model, GlobalMaxPooling2D()])\n",
        "\n",
        "img = image.load_img('sample/shoes.jpg',target_size=(224,224))\n",
        "img_array = image.img_to_array(img)\n",
        "expand_img = np.expand_dims(img_array,axis=0)\n",
        "preprocessed_img = preprocess_input(expand_img)\n",
        "result_to_resnet = model.predict(preprocessed_img)\n",
        "flatten_result = result_to_resnet.flatten()\n",
        "# normalizing\n",
        "result_normlized = flatten_result / norm(flatten_result)\n",
        "\n",
        "neighbors = NearestNeighbors(n_neighbors = 6, algorithm='brute', metric='euclidean')\n",
        "neighbors.fit(features_list)\n",
        "\n",
        "distence, indices = neighbors.kneighbors([result_normlized])\n",
        "\n",
        "print(indices)\n",
        "\n",
        "for file in indices[0][1:6]:\n",
        "    print(img_files_list[file])\n",
        "    tmp_img = cv2.imread(img_files_list[file])\n",
        "    tmp_img = cv2.resize(tmp_img,(200,200))\n",
        "    cv2.imshow(\"output\", tmp_img)\n",
        "    cv2.waitKey(0)"
      ]
    }
  ]
}